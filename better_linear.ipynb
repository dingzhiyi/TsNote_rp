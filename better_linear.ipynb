{
 "cells": [
  {
   "cell_type": "code",
   "execution_count": 29,
   "metadata": {},
   "outputs": [],
   "source": [
    "import tensorflow as tf\n",
    "import numpy as np\n",
    "import matplotlib.pyplot as plt\n",
    "import requests\n",
    "sess = tf.Session()"
   ]
  },
  {
   "cell_type": "code",
   "execution_count": 30,
   "metadata": {},
   "outputs": [],
   "source": [
    "birthdata_url = 'https://www.umass.edu/statdata/statdata/data/lowbwt.dat'\n",
    "birth_file = requests.get(birthdata_url)\n",
    "birth_data = birth_file.text.split('\\r\\n')[5:]\n",
    "birth_header = [x for x in birth_data[0].split(' ') if len(x)>=1]\n",
    "birth_data = [[float(x) for x in y.split(' ') if len(x)>=1] for y\n",
    "in birth_data[1:] if len(y)>=1]\n",
    "y_vals = np.array([x[1] for x in birth_data])\n",
    "x_vals = np.array([x[2:9] for x in birth_data])\n",
    "train_indices = np.random.choice(len(x_vals), int(round(len(x_vals)*0.8)), replace=False)\n",
    "test_indices = np.array(list(set(range(len(x_vals))) - set(train_indices)))\n",
    "x_vals_train = x_vals[train_indices]\n",
    "x_vals_test = x_vals[test_indices]\n",
    "y_vals_train = y_vals[train_indices]\n",
    "y_vals_test = y_vals[test_indices]"
   ]
  },
  {
   "cell_type": "code",
   "execution_count": 31,
   "metadata": {
    "collapsed": true
   },
   "outputs": [],
   "source": [
    "def normalize_cols(m):\n",
    "    col_max = m.max(axis=0)\n",
    "    col_min = m.min(axis=0)\n",
    "    return (m-col_min)/(col_max-col_min)"
   ]
  },
  {
   "cell_type": "code",
   "execution_count": 32,
   "metadata": {
    "collapsed": true
   },
   "outputs": [],
   "source": [
    "x_vals_train = np.nan_to_num(normalize_cols(x_vals_train))\n",
    "y_vals_train = np.nan_to_num(normalize_cols(y_vals_train))"
   ]
  },
  {
   "cell_type": "code",
   "execution_count": 33,
   "metadata": {
    "collapsed": true
   },
   "outputs": [],
   "source": [
    "batch_size = 90\n",
    "x_data = tf.placeholder(shape=[None,7],dtype=tf.float32)\n",
    "y_target = tf.placeholder(shape=[None,1],dtype=tf.float32)"
   ]
  },
  {
   "cell_type": "code",
   "execution_count": 34,
   "metadata": {
    "collapsed": true
   },
   "outputs": [],
   "source": [
    "def init_variable(shape):\n",
    "    return tf.Variable(tf.random_normal(shape=shape))"
   ]
  },
  {
   "cell_type": "code",
   "execution_count": 35,
   "metadata": {
    "collapsed": true
   },
   "outputs": [],
   "source": [
    "def logistic(input_layer, multiplication_weight,\n",
    "             bias_weights,activation=True):\n",
    "    linear_layer = tf.add(tf.matmul(input_layer,multiplication_weight),\n",
    "                          bias_weights)\n",
    "    if activation:\n",
    "        return tf.nn.sigmoid(linear_layer)\n",
    "    else:\n",
    "        return linear_layer"
   ]
  },
  {
   "cell_type": "code",
   "execution_count": 36,
   "metadata": {
    "collapsed": true
   },
   "outputs": [],
   "source": [
    "A1 = init_variable([7,25])\n",
    "b1 = init_variable([25])\n",
    "A2 = init_variable([25,5])\n",
    "b2 = init_variable([5])\n",
    "A3 = init_variable([5,1])\n",
    "b3 = init_variable([1])\n",
    "logistic_layer_1 = logistic(x_data, A1,b1)\n",
    "logistic_layer_2 = logistic(logistic_layer_1,A2,b2)\n",
    "output_layer = logistic(logistic_layer_2,A3,b3,False)"
   ]
  },
  {
   "cell_type": "code",
   "execution_count": 37,
   "metadata": {},
   "outputs": [],
   "source": [
    "loss = tf.reduce_mean(tf.nn.sigmoid_cross_entropy_with_logits(logits = output_layer,\n",
    "                                                              labels = y_target))\n",
    "my_opt = tf.train.AdamOptimizer(0.002)\n",
    "train_step = my_opt.minimize(loss)"
   ]
  },
  {
   "cell_type": "code",
   "execution_count": 38,
   "metadata": {
    "collapsed": true
   },
   "outputs": [],
   "source": [
    "init = tf.global_variables_initializer()\n",
    "sess.run(init)"
   ]
  },
  {
   "cell_type": "markdown",
   "metadata": {},
   "source": [
    "### Compare the prediction"
   ]
  },
  {
   "cell_type": "code",
   "execution_count": 39,
   "metadata": {
    "collapsed": true
   },
   "outputs": [],
   "source": [
    "prediction = tf.round(tf.nn.sigmoid(output_layer))\n",
    "prediction_correct = tf.cast(tf.equal(prediction,y_target),dtype=tf.float32)\n",
    "accuracy = tf.reduce_mean(prediction_correct)"
   ]
  },
  {
   "cell_type": "markdown",
   "metadata": {},
   "source": [
    "tf.tensor is used to convert a tensor to another type"
   ]
  },
  {
   "cell_type": "code",
   "execution_count": 40,
   "metadata": {},
   "outputs": [
    {
     "name": "stdout",
     "output_type": "stream",
     "text": [
      "Loss = 0.59093\n",
      "Loss = 0.613772\n",
      "Loss = 0.642966\n",
      "Loss = 0.575047\n",
      "Loss = 0.540796\n",
      "Loss = 0.514788\n",
      "Loss = 0.464728\n",
      "Loss = 0.551068\n",
      "Loss = 0.457108\n",
      "Loss = 0.37287\n"
     ]
    }
   ],
   "source": [
    "loss_vec = []\n",
    "train_acc = []\n",
    "test_acc = []\n",
    "for i in range(1500):\n",
    "    rand_indeces = np.random.choice(len(x_vals_train),size=batch_size)\n",
    "    rand_x = x_vals_train[rand_indeces]\n",
    "    rand_y = np.transpose([y_vals_train[rand_indeces]])\n",
    "    sess.run(train_step,feed_dict={x_data:rand_x,\n",
    "                                  y_target:rand_y})\n",
    "    temp_loss = sess.run(loss,feed_dict={x_data:rand_x,y_target:rand_y})\n",
    "    loss_vec.append(temp_loss)\n",
    "    temp_acc_train = sess.run(accuracy,feed_dict={x_data:x_vals_train,y_target:np.transpose([y_vals_train])})\n",
    "    train_acc.append(temp_acc_train)\n",
    "    temp_acc_test = sess.run(accuracy,feed_dict={x_data:x_vals_test,y_target:np.transpose([y_vals_test])})\n",
    "    test_acc.append(temp_acc_test)\n",
    "    if(i+1)%150 == 0:\n",
    "        print('Loss = '+str(temp_loss))"
   ]
  },
  {
   "cell_type": "code",
   "execution_count": 41,
   "metadata": {},
   "outputs": [
    {
     "data": {
      "image/png": "[encoded data removed]",
      "text/plain": [
       "<matplotlib.figure.Figure at 0x7f47a41c6790>"
      ]
     },
     "metadata": {},
     "output_type": "display_data"
    }
   ],
   "source": [
    "plt.plot(loss_vec,'k-',label='train loss')\n",
    "plt.title('Cross Entropy Loss per generation')\n",
    "plt.xlabel('Generation')\n",
    "plt.ylabel('Loss')\n",
    "plt.legend(loc='upper right')\n",
    "plt.show()"
   ]
  },
  {
   "cell_type": "code",
   "execution_count": 43,
   "metadata": {},
   "outputs": [
    {
     "data": {
      "image/png": "[encoded data removed]",
      "text/plain": [
       "<matplotlib.figure.Figure at 0x7f479ffd69d0>"
      ]
     },
     "metadata": {},
     "output_type": "display_data"
    }
   ],
   "source": [
    "plt.plot(train_acc,'k-',label='Train Accuracy')\n",
    "plt.plot(test_acc,'r--',label='Test Accuracy')\n",
    "plt.title('Accuracy per generation')\n",
    "plt.xlabel('Generation')\n",
    "plt.ylabel('Accuracy')\n",
    "plt.legend(loc='upper right')\n",
    "plt.show()"
   ]
  },
  {
   "cell_type": "code",
   "execution_count": null,
   "metadata": {
    "collapsed": true
   },
   "outputs": [],
   "source": []
  }
 ],
 "metadata": {
  "kernelspec": {
   "display_name": "Python 2",
   "language": "python",
   "name": "python2"
  },
  "language_info": {
   "codemirror_mode": {
    "name": "ipython",
    "version": 2
   },
   "file_extension": ".py",
   "mimetype": "text/x-python",
   "name": "python",
   "nbconvert_exporter": "python",
   "pygments_lexer": "ipython2",
   "version": "2.7.12"
  }
 },
 "nbformat": 4,
 "nbformat_minor": 2
}
