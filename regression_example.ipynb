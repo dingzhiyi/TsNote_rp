{
 "cells": [
  {
   "cell_type": "code",
   "execution_count": 36,
   "metadata": {},
   "outputs": [],
   "source": [
    "import numpy as np\n",
    "import tensorflow as tf\n",
    "import matplotlib.pyplot as plt"
   ]
  },
  {
   "cell_type": "code",
   "execution_count": 23,
   "metadata": {
    "collapsed": true
   },
   "outputs": [],
   "source": [
    "batch_size=20"
   ]
  },
  {
   "cell_type": "code",
   "execution_count": 2,
   "metadata": {
    "collapsed": true
   },
   "outputs": [],
   "source": [
    "sess = tf.Session()"
   ]
  },
  {
   "cell_type": "code",
   "execution_count": 3,
   "metadata": {
    "collapsed": true
   },
   "outputs": [],
   "source": [
    "x_vals = np.random.normal(1,0.1,100)"
   ]
  },
  {
   "cell_type": "code",
   "execution_count": 4,
   "metadata": {
    "collapsed": true
   },
   "outputs": [],
   "source": [
    "y_vals = np.repeat(10.,100)"
   ]
  },
  {
   "cell_type": "code",
   "execution_count": 88,
   "metadata": {},
   "outputs": [],
   "source": [
    "x_data = tf.placeholder(shape=[None,1],dtype=tf.float32)"
   ]
  },
  {
   "cell_type": "code",
   "execution_count": 89,
   "metadata": {
    "collapsed": true
   },
   "outputs": [],
   "source": [
    "y_target = tf.placeholder(shape=[None,1],dtype=tf.float32)"
   ]
  },
  {
   "cell_type": "code",
   "execution_count": 90,
   "metadata": {
    "collapsed": true
   },
   "outputs": [],
   "source": [
    "A = tf.Variable(tf.random_normal(shape=[1]))"
   ]
  },
  {
   "cell_type": "code",
   "execution_count": 91,
   "metadata": {
    "collapsed": true
   },
   "outputs": [],
   "source": [
    "my_output = tf.multiply(x_data,A)"
   ]
  },
  {
   "cell_type": "code",
   "execution_count": 92,
   "metadata": {
    "collapsed": true
   },
   "outputs": [],
   "source": [
    "loss = tf.reduce_mean(tf.square(my_output - y_target))"
   ]
  },
  {
   "cell_type": "code",
   "execution_count": 93,
   "metadata": {},
   "outputs": [],
   "source": [
    "init = tf.global_variables_initializer()"
   ]
  },
  {
   "cell_type": "code",
   "execution_count": 94,
   "metadata": {
    "collapsed": true
   },
   "outputs": [],
   "source": [
    "sess.run(init)"
   ]
  },
  {
   "cell_type": "code",
   "execution_count": 95,
   "metadata": {
    "collapsed": true
   },
   "outputs": [],
   "source": [
    "my_opt = tf.train.GradientDescentOptimizer(learning_rate=0.02)"
   ]
  },
  {
   "cell_type": "code",
   "execution_count": 96,
   "metadata": {
    "collapsed": true
   },
   "outputs": [],
   "source": [
    "train_step = my_opt.minimize(loss)"
   ]
  },
  {
   "cell_type": "code",
   "execution_count": 97,
   "metadata": {},
   "outputs": [
    {
     "name": "stdout",
     "output_type": "stream",
     "text": [
      "Step #5 A = [ 2.58887482]\n",
      "Loss = 55.0519\n",
      "Step #10 A = [ 3.94614053]\n",
      "Loss = 37.2231\n",
      "Step #15 A = [ 5.05128384]\n",
      "Loss = 24.2064\n",
      "Step #20 A = [ 5.95611382]\n",
      "Loss = 18.4105\n",
      "Step #25 A = [ 6.69500065]\n",
      "Loss = 11.3645\n",
      "Step #30 A = [ 7.30997801]\n",
      "Loss = 8.66192\n",
      "Step #35 A = [ 7.82001114]\n",
      "Loss = 6.60431\n",
      "Step #40 A = [ 8.21563911]\n",
      "Loss = 3.55856\n",
      "Step #45 A = [ 8.5239315]\n",
      "Loss = 3.61986\n",
      "Step #50 A = [ 8.79935074]\n",
      "Loss = 1.6378\n",
      "Step #55 A = [ 9.02114964]\n",
      "Loss = 2.27357\n",
      "Step #60 A = [ 9.19592285]\n",
      "Loss = 1.86526\n",
      "Step #65 A = [ 9.34150982]\n",
      "Loss = 1.55317\n",
      "Step #70 A = [ 9.4767046]\n",
      "Loss = 1.38062\n",
      "Step #75 A = [ 9.55903912]\n",
      "Loss = 0.819804\n",
      "Step #80 A = [ 9.62704468]\n",
      "Loss = 0.789073\n",
      "Step #85 A = [ 9.6651907]\n",
      "Loss = 1.17517\n",
      "Step #90 A = [ 9.71663189]\n",
      "Loss = 1.70642\n",
      "Step #95 A = [ 9.73319626]\n",
      "Loss = 0.96832\n",
      "Step #100 A = [ 9.80261993]\n",
      "Loss = 1.28132\n"
     ]
    }
   ],
   "source": [
    "loss_batch = []\n",
    "for i in range(100):\n",
    "    rand_index = np.random.choice(100,size=batch_size)\n",
    "    rand_x = np.transpose([x_vals[rand_index]])\n",
    "    rand_y = np.transpose([y_vals[rand_index]])\n",
    "    sess.run(train_step,feed_dict={x_data:rand_x,y_target:rand_y})\n",
    "    if (i+1)%5 ==0:\n",
    "        print('Step #' + str(i+1) +' A = ' + str(sess.run(A)))\n",
    "        temp_loss = sess.run(loss,feed_dict={x_data:rand_x,y_target:rand_y})\n",
    "        print('Loss = '+str(temp_loss))\n",
    "        loss_batch.append(temp_loss)\n"
   ]
  },
  {
   "cell_type": "markdown",
   "metadata": {},
   "source": [
    "## Before running this model needs to be changed since stochastic methods allow us to use only one data point to do the iterations"
   ]
  },
  {
   "cell_type": "code",
   "execution_count": 84,
   "metadata": {},
   "outputs": [
    {
     "name": "stdout",
     "output_type": "stream",
     "text": [
      "Step #5 A = [ 2.26404285]\n",
      "Loss = 65.178\n",
      "Step #10 A = [ 3.68772364]\n",
      "Loss = 35.0403\n",
      "Step #15 A = [ 4.86371422]\n",
      "Loss = 25.7754\n",
      "Step #20 A = [ 5.81279373]\n",
      "Loss = 22.1445\n",
      "Step #25 A = [ 6.57850075]\n",
      "Loss = 18.8944\n",
      "Step #30 A = [ 7.24005985]\n",
      "Loss = 7.32926\n",
      "Step #35 A = [ 7.79697227]\n",
      "Loss = 11.8795\n",
      "Step #40 A = [ 8.18850136]\n",
      "Loss = 3.24439\n",
      "Step #45 A = [ 8.54618168]\n",
      "Loss = 7.23768\n",
      "Step #50 A = [ 8.86546803]\n",
      "Loss = 2.03824\n",
      "Step #55 A = [ 9.06622505]\n",
      "Loss = 0.149784\n",
      "Step #60 A = [ 9.23736668]\n",
      "Loss = 0.0236952\n",
      "Step #65 A = [ 9.26783466]\n",
      "Loss = 1.06889\n",
      "Step #70 A = [ 9.28282928]\n",
      "Loss = 0.160574\n",
      "Step #75 A = [ 9.38553047]\n",
      "Loss = 5.79625\n",
      "Step #80 A = [ 9.48271656]\n",
      "Loss = 0.280529\n",
      "Step #85 A = [ 9.49502659]\n",
      "Loss = 0.0053633\n",
      "Step #90 A = [ 9.72359657]\n",
      "Loss = 2.53667\n",
      "Step #95 A = [ 9.81340408]\n",
      "Loss = 0.840597\n",
      "Step #100 A = [ 9.93580055]\n",
      "Loss = 0.24583\n"
     ]
    }
   ],
   "source": [
    "\n",
    "loss_stochastic = []\n",
    "for i in range(100):\n",
    "    rand_index = np.random.choice(100)\n",
    "    rand_x = [x_vals[rand_index]]\n",
    "    rand_y = [y_vals[rand_index]]\n",
    "    sess.run(train_step,feed_dict={x_data:rand_x,y_target:rand_y})\n",
    "    if (i+1)%5 ==0:\n",
    "        print('Step #'+str(i+1) + ' A = ' + str(sess.run(A)))\n",
    "        temp_loss = sess.run(loss,feed_dict={x_data:rand_x,y_target:rand_y})\n",
    "        print('Loss = '+str(temp_loss))\n",
    "        loss_stochastic.append(temp_loss)"
   ]
  },
  {
   "cell_type": "code",
   "execution_count": 98,
   "metadata": {
    "scrolled": true
   },
   "outputs": [
    {
     "data": {
      "image/png": "[encoded data removed]",
      "text/plain": [
       "<matplotlib.figure.Figure at 0x7f6959c44a10>"
      ]
     },
     "metadata": {},
     "output_type": "display_data"
    }
   ],
   "source": [
    "plt.plot(range(0,100,5),loss_batch,'r--',label='Batch Loss, size=20')\n",
    "plt.plot(range(0,100,5),loss_stochastic,'b--',label='Stochastic Loss')\n",
    "plt.legend(loc='upper right')\n",
    "plt.show()\n",
    "%matplotlib inline"
   ]
  },
  {
   "cell_type": "markdown",
   "metadata": {},
   "source": [
    "### Conclusion\n",
    "- Based on the graph above, stochastic needs more iterations to converge, while may move out of local minimums\n",
    "- Batch might find minumums quicker, but takes more resources to compute"
   ]
  },
  {
   "cell_type": "code",
   "execution_count": null,
   "metadata": {
    "collapsed": true
   },
   "outputs": [],
   "source": []
  }
 ],
 "metadata": {
  "kernelspec": {
   "display_name": "Python 2",
   "language": "python",
   "name": "python2"
  },
  "language_info": {
   "codemirror_mode": {
    "name": "ipython",
    "version": 2
   },
   "file_extension": ".py",
   "mimetype": "text/x-python",
   "name": "python",
   "nbconvert_exporter": "python",
   "pygments_lexer": "ipython2",
   "version": "2.7.12"
  }
 },
 "nbformat": 4,
 "nbformat_minor": 2
}
