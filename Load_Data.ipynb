{
 "cells": [
  {
   "cell_type": "markdown",
   "metadata": {},
   "source": [
    "## Birth weight data"
   ]
  },
  {
   "cell_type": "code",
   "execution_count": 3,
   "metadata": {},
   "outputs": [],
   "source": [
    "import requests"
   ]
  },
  {
   "cell_type": "code",
   "execution_count": 6,
   "metadata": {
    "collapsed": true
   },
   "outputs": [],
   "source": [
    "birthdata_url = 'https://www.umass.\\\n",
    "edu/statdata/statdata/data/lowbwt.data'"
   ]
  },
  {
   "cell_type": "code",
   "execution_count": 7,
   "metadata": {
    "collapsed": true
   },
   "outputs": [],
   "source": [
    "birth_file = requests.get(birthdata_url)"
   ]
  },
  {
   "cell_type": "code",
   "execution_count": 8,
   "metadata": {
    "collapsed": true
   },
   "outputs": [],
   "source": [
    "birth_data = birth_file.text.split('\\r\\n')"
   ]
  },
  {
   "cell_type": "code",
   "execution_count": 10,
   "metadata": {},
   "outputs": [],
   "source": [
    "birth_head = [x for x in birth_data[0].split(' ') if len(x)>=1]"
   ]
  },
  {
   "cell_type": "code",
   "execution_count": 11,
   "metadata": {},
   "outputs": [
    {
     "data": {
      "text/plain": [
       "[u'<!DOCTYPE',\n",
       " u'HTML',\n",
       " u'PUBLIC',\n",
       " u'\"-//IETF//DTD',\n",
       " u'HTML',\n",
       " u'2.0//EN\">\\n<html><head>\\n<title>404',\n",
       " u'Not',\n",
       " u'Found</title>\\n</head><body>\\n<h1>Not',\n",
       " u'Found</h1>\\n<p>The',\n",
       " u'requested',\n",
       " u'URL',\n",
       " u'/statdata/statdata/data/lowbwt.data',\n",
       " u'was',\n",
       " u'not',\n",
       " u'found',\n",
       " u'on',\n",
       " u'this',\n",
       " u'server.</p>\\n</body></html>\\n']"
      ]
     },
     "execution_count": 11,
     "metadata": {},
     "output_type": "execute_result"
    }
   ],
   "source": [
    "birth_head"
   ]
  },
  {
   "cell_type": "code",
   "execution_count": null,
   "metadata": {
    "collapsed": true
   },
   "outputs": [],
   "source": []
  }
 ],
 "metadata": {
  "kernelspec": {
   "display_name": "Python 2",
   "language": "python",
   "name": "python2"
  },
  "language_info": {
   "codemirror_mode": {
    "name": "ipython",
    "version": 2
   },
   "file_extension": ".py",
   "mimetype": "text/x-python",
   "name": "python",
   "nbconvert_exporter": "python",
   "pygments_lexer": "ipython2",
   "version": "2.7.12"
  }
 },
 "nbformat": 4,
 "nbformat_minor": 2
}
