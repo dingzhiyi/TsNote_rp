{
 "cells": [
  {
   "cell_type": "code",
   "execution_count": 44,
   "metadata": {
    "collapsed": true
   },
   "outputs": [],
   "source": [
    "import tensorflow as tf\n",
    "import numpy as np\n",
    "import matplotlib.pyplot as plt\n",
    "sess = tf.Session()\n",
    "tf.set_random_seed(1)"
   ]
  },
  {
   "cell_type": "code",
   "execution_count": 45,
   "metadata": {},
   "outputs": [],
   "source": [
    "batch_size = 50\n",
    "a1 = tf.Variable(tf.random_normal(shape=[1,1]))\n",
    "b1 = tf.Variable(tf.random_normal(shape=[1,1]))\n",
    "a2 = tf.Variable(tf.random_normal(shape=[1,1]))\n",
    "b2 = tf.Variable(tf.random_normal(shape=[1,1]))\n",
    "x = np.random.normal(2,0.1,500)\n",
    "x_data = tf.placeholder(shape=[None,1],dtype=tf.float32)"
   ]
  },
  {
   "cell_type": "code",
   "execution_count": 46,
   "metadata": {
    "collapsed": true
   },
   "outputs": [],
   "source": [
    "sigmoid_activation = tf.nn.sigmoid(tf.add(tf.matmul(x_data,a1),b1))\n",
    "relu_activation = tf.nn.relu(tf.add(tf.matmul(x_data,a2),b2))"
   ]
  },
  {
   "cell_type": "code",
   "execution_count": 47,
   "metadata": {
    "collapsed": true
   },
   "outputs": [],
   "source": [
    "loss1 = tf.reduce_mean(tf.square(tf.subtract(sigmoid_activation,\n",
    "                                            0.8)))\n",
    "loss2 = tf.reduce_mean(tf.square(tf.subtract(relu_activation,\n",
    "                                            0.8)))"
   ]
  },
  {
   "cell_type": "code",
   "execution_count": 48,
   "metadata": {
    "collapsed": true
   },
   "outputs": [],
   "source": [
    "my_opt = tf.train.GradientDescentOptimizer(0.01)\n",
    "train_step_sigmoid = my_opt.minimize(loss1)\n",
    "train_step_relu = my_opt.minimize(loss2)\n",
    "init = tf.global_variables_initializer()\n",
    "sess.run(init)"
   ]
  },
  {
   "cell_type": "code",
   "execution_count": 49,
   "metadata": {},
   "outputs": [
    {
     "name": "stdout",
     "output_type": "stream",
     "text": [
      "Sigmoid Loss is 0.113435\n",
      "Sigmoid activation is 0.4632\n",
      "Sigmoid Loss is 0.100412\n",
      "Sigmoid activation is 0.483125\n",
      "Sigmoid Loss is 0.0883969\n",
      "Sigmoid activation is 0.502694\n",
      "Sigmoid Loss is 0.0780135\n",
      "Sigmoid activation is 0.520709\n",
      "Sigmoid Loss is 0.0688145\n",
      "Sigmoid activation is 0.537714\n",
      "Sigmoid Loss is 0.0613545\n",
      "Sigmoid activation is 0.552344\n",
      "Sigmoid Loss is 0.0534167\n",
      "Sigmoid activation is 0.568916\n",
      "Sigmoid Loss is 0.0478837\n",
      "Sigmoid activation is 0.581243\n",
      "Sigmoid Loss is 0.0424804\n",
      "Sigmoid activation is 0.594015\n",
      "Sigmoid Loss is 0.0378907\n",
      "Sigmoid activation is 0.605498\n",
      "Sigmoid Loss is 0.0337955\n",
      "Sigmoid activation is 0.616269\n",
      "Sigmoid Loss is 0.0300547\n",
      "Sigmoid activation is 0.626756\n",
      "Sigmoid Loss is 0.0267267\n",
      "Sigmoid activation is 0.636705\n",
      "Sigmoid Loss is 0.0236656\n",
      "Sigmoid activation is 0.646373\n",
      "Sigmoid Loss is 0.0218772\n",
      "Sigmoid activation is 0.652312\n",
      "Sigmoid Loss is 0.0201754\n",
      "Sigmoid activation is 0.658201\n",
      "Sigmoid Loss is 0.0179956\n",
      "Sigmoid activation is 0.666145\n",
      "Sigmoid Loss is 0.0163751\n",
      "Sigmoid activation is 0.672334\n",
      "Sigmoid Loss is 0.0145661\n",
      "Sigmoid activation is 0.679494\n",
      "Sigmoid Loss is 0.0135608\n",
      "Sigmoid activation is 0.683852\n",
      "Sigmoid Loss is 0.0121192\n",
      "Sigmoid activation is 0.690209\n",
      "Sigmoid Loss is 0.0110368\n",
      "Sigmoid activation is 0.695317\n",
      "Sigmoid Loss is 0.0105133\n",
      "Sigmoid activation is 0.697774\n",
      "Sigmoid Loss is 0.00945101\n",
      "Sigmoid activation is 0.70315\n",
      "Sigmoid Loss is 0.0090111\n",
      "Sigmoid activation is 0.705584\n",
      "Sigmoid Loss is 0.00824481\n",
      "Sigmoid activation is 0.709702\n",
      "Sigmoid Loss is 0.00700083\n",
      "Sigmoid activation is 0.716734\n",
      "Sigmoid Loss is 0.00653107\n",
      "Sigmoid activation is 0.719761\n",
      "Sigmoid Loss is 0.00654011\n",
      "Sigmoid activation is 0.71961\n",
      "Sigmoid Loss is 0.00590421\n",
      "Sigmoid activation is 0.723951\n",
      "Sigmoid Loss is 0.00534198\n",
      "Sigmoid activation is 0.727724\n",
      "Sigmoid Loss is 0.004843\n",
      "Sigmoid activation is 0.7314\n",
      "Sigmoid Loss is 0.00441088\n",
      "Sigmoid activation is 0.734377\n",
      "Sigmoid Loss is 0.00403491\n",
      "Sigmoid activation is 0.737533\n",
      "Sigmoid Loss is 0.00400991\n",
      "Sigmoid activation is 0.737572\n",
      "Sigmoid Loss is 0.00366504\n",
      "Sigmoid activation is 0.740135\n",
      "Sigmoid Loss is 0.00334068\n",
      "Sigmoid activation is 0.742806\n",
      "Sigmoid Loss is 0.00349014\n",
      "Sigmoid activation is 0.741886\n",
      "Sigmoid Loss is 0.00315394\n",
      "Sigmoid activation is 0.744752\n",
      "Sigmoid Loss is 0.00280335\n",
      "Sigmoid activation is 0.748318\n",
      "Sigmoid Loss is 0.00237458\n",
      "Sigmoid activation is 0.752044\n",
      "Sigmoid Loss is 0.00261197\n",
      "Sigmoid activation is 0.749743\n",
      "Sigmoid Loss is 0.00225246\n",
      "Sigmoid activation is 0.753739\n",
      "Sigmoid Loss is 0.00203051\n",
      "Sigmoid activation is 0.755997\n",
      "Sigmoid Loss is 0.00196257\n",
      "Sigmoid activation is 0.757214\n",
      "Sigmoid Loss is 0.00198368\n",
      "Sigmoid activation is 0.756568\n",
      "Sigmoid Loss is 0.00183495\n",
      "Sigmoid activation is 0.75832\n",
      "Sigmoid Loss is 0.00168438\n",
      "Sigmoid activation is 0.760177\n",
      "Sigmoid Loss is 0.0016903\n",
      "Sigmoid activation is 0.760158\n",
      "Sigmoid Loss is 0.00146065\n",
      "Sigmoid activation is 0.762981\n",
      "Sigmoid Loss is 0.00128246\n",
      "Sigmoid activation is 0.765583\n",
      "Sigmoid Loss is 0.00132828\n",
      "Sigmoid activation is 0.764768\n",
      "Sigmoid Loss is 0.00128954\n",
      "Sigmoid activation is 0.765386\n",
      "Sigmoid Loss is 0.00117002\n",
      "Sigmoid activation is 0.767105\n",
      "Sigmoid Loss is 0.00120096\n",
      "Sigmoid activation is 0.767484\n",
      "Sigmoid Loss is 0.000902897\n",
      "Sigmoid activation is 0.771087\n",
      "Sigmoid Loss is 0.00115827\n",
      "Sigmoid activation is 0.767889\n",
      "Sigmoid Loss is 0.000720219\n",
      "Sigmoid activation is 0.774531\n",
      "Sigmoid Loss is 0.00113986\n",
      "Sigmoid activation is 0.767747\n",
      "Sigmoid Loss is 0.000835271\n",
      "Sigmoid activation is 0.772512\n",
      "Sigmoid Loss is 0.000663265\n",
      "Sigmoid activation is 0.775688\n",
      "Sigmoid Loss is 0.000806006\n",
      "Sigmoid activation is 0.77445\n",
      "Sigmoid Loss is 0.000811462\n",
      "Sigmoid activation is 0.773374\n",
      "Sigmoid Loss is 0.000673618\n",
      "Sigmoid activation is 0.775291\n",
      "Sigmoid Loss is 0.00073558\n",
      "Sigmoid activation is 0.775219\n",
      "Sigmoid Loss is 0.000721783\n",
      "Sigmoid activation is 0.775629\n",
      "Sigmoid Loss is 0.000542629\n",
      "Sigmoid activation is 0.779044\n",
      "Sigmoid Loss is 0.000580938\n",
      "Sigmoid activation is 0.777682\n",
      "Sigmoid Loss is 0.000611522\n",
      "Sigmoid activation is 0.778573\n",
      "Sigmoid Loss is 0.000593231\n",
      "Sigmoid activation is 0.778411\n",
      "Sigmoid Loss is 0.000495073\n",
      "Sigmoid activation is 0.780622\n",
      "Sigmoid Loss is 0.000381246\n",
      "Sigmoid activation is 0.782497\n",
      "Sigmoid Loss is 0.000415977\n",
      "Sigmoid activation is 0.782755\n",
      "Sigmoid Loss is 0.000444324\n",
      "Sigmoid activation is 0.783373\n",
      "Sigmoid Loss is 0.000432697\n",
      "Sigmoid activation is 0.781458\n"
     ]
    }
   ],
   "source": [
    "loss_vec_sigmoid = []\n",
    "loss_vec_relu = []\n",
    "activation_sigmoid = []\n",
    "activation_relu = []\n",
    "for i in range(750):\n",
    "    rand_indexes = np.random.choice(len(x),size=batch_size)\n",
    "    x_vals = np.transpose([x[rand_indexes]])\n",
    "    sess.run(train_step_sigmoid,feed_dict={x_data:x_vals})\n",
    "    sess.run(train_step_relu,feed_dict={x_data:x_vals})\n",
    "    loss_vec_sigmoid.append(sess.run(loss1,feed_dict={x_data:x_vals}))\n",
    "    loss_vec_relu.append(sess.run(loss2,feed_dict={x_data:x_vals}))\n",
    "    activation_sigmoid.append(np.mean(sess.run(sigmoid_activation,\n",
    "                                               feed_dict={x_data:x_vals})))\n",
    "    activation_relu.append(np.mean(sess.run(relu_activation,\n",
    "                                           feed_dict={x_data:x_vals})))\n",
    "    if i%10==0:\n",
    "        print('Sigmoid Loss is '+str(sess.run(loss1,\n",
    "                                              feed_dict={x_data:x_vals})))\n",
    "        print('Sigmoid activation is ')+str(np.mean(sess.run(sigmoid_activation,\n",
    "                                                     feed_dict={x_data:x_vals})))"
   ]
  },
  {
   "cell_type": "code",
   "execution_count": 50,
   "metadata": {},
   "outputs": [
    {
     "data": {
      "image/png": "[encoded data removed]",
      "text/plain": [
       "<matplotlib.figure.Figure at 0x7fc6db867e90>"
      ]
     },
     "metadata": {},
     "output_type": "display_data"
    }
   ],
   "source": [
    "plt.plot(activation_sigmoid,'k-',label='Sigmoid Activation')\n",
    "plt.plot(activation_relu,'r--',label='Relu Activation')\n",
    "plt.ylim([0,1.0])\n",
    "plt.title('Activation Outputs')\n",
    "plt.xlabel('Generation')\n",
    "plt.ylabel('Outputs')\n",
    "plt.legend(loc='upper right')\n",
    "plt.show()\n"
   ]
  },
  {
   "cell_type": "code",
   "execution_count": 51,
   "metadata": {
    "scrolled": true
   },
   "outputs": [
    {
     "data": {
      "image/png": "[encoded data removed]",
      "text/plain": [
       "<matplotlib.figure.Figure at 0x7fc6e668cc90>"
      ]
     },
     "metadata": {},
     "output_type": "display_data"
    }
   ],
   "source": [
    "plt.plot(loss_vec_sigmoid,'k-',label = 'Sigmoid Loss')\n",
    "plt.plot(loss_vec_relu,'r--',label='ReLU Loss')\n",
    "plt.title('Loss Outputs')\n",
    "plt.xlabel('Generation')\n",
    "plt.ylabel('Outputs')\n",
    "plt.legend(loc='upper right')\n",
    "plt.show()"
   ]
  },
  {
   "cell_type": "markdown",
   "metadata": {},
   "source": [
    "### Different Activation Functions\n",
    "- Sigmoid: Less extreme outpus\n",
    "- Sigmoid: Slower convergence\n",
    "- ReLU: Converges quicker\n",
    "- ReLU: Extreme output values possible"
   ]
  }
 ],
 "metadata": {
  "kernelspec": {
   "display_name": "Python 2",
   "language": "python",
   "name": "python2"
  },
  "language_info": {
   "codemirror_mode": {
    "name": "ipython",
    "version": 2
   },
   "file_extension": ".py",
   "mimetype": "text/x-python",
   "name": "python",
   "nbconvert_exporter": "python",
   "pygments_lexer": "ipython2",
   "version": "2.7.12"
  }
 },
 "nbformat": 4,
 "nbformat_minor": 2
}
